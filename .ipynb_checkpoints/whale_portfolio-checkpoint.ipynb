{
 "cells": [
  {
   "cell_type": "markdown",
   "id": "37a00f5c-7378-4b1d-a0fa-a824f2130ea7",
   "metadata": {
    "tags": []
   },
   "source": [
    "## A Whale Off the Portfolio"
   ]
  },
  {
   "cell_type": "code",
   "execution_count": null,
   "id": "3a1f5ddb-9435-452c-81cb-25586becd020",
   "metadata": {},
   "outputs": [],
   "source": []
  }
 ],
 "metadata": {
  "kernelspec": {
   "display_name": "Python 3",
   "language": "python",
   "name": "python3"
  },
  "language_info": {
   "codemirror_mode": {
    "name": "ipython",
    "version": 3
   },
   "file_extension": ".py",
   "mimetype": "text/x-python",
   "name": "python",
   "nbconvert_exporter": "python",
   "pygments_lexer": "ipython3",
   "version": "3.8.8"
  }
 },
 "nbformat": 4,
 "nbformat_minor": 5
}
